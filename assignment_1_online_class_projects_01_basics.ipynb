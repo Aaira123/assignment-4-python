{
  "nbformat": 4,
  "nbformat_minor": 0,
  "metadata": {
    "colab": {
      "provenance": [],
      "authorship_tag": "ABX9TyObf+RqAqahfTBFwADeO87H",
      "include_colab_link": true
    },
    "kernelspec": {
      "name": "python3",
      "display_name": "Python 3"
    },
    "language_info": {
      "name": "python"
    }
  },
  "cells": [
    {
      "cell_type": "markdown",
      "metadata": {
        "id": "view-in-github",
        "colab_type": "text"
      },
      "source": [
        "<a href=\"https://colab.research.google.com/github/Aaira123/assignment-4-python/blob/main/assignment_1_online_class_projects_01_basics.ipynb\" target=\"_parent\"><img src=\"https://colab.research.google.com/assets/colab-badge.svg\" alt=\"Open In Colab\"/></a>"
      ]
    },
    {
      "cell_type": "code",
      "execution_count": 1,
      "metadata": {
        "colab": {
          "base_uri": "https://localhost:8080/"
        },
        "id": "8Lrr6aKbLtqe",
        "outputId": "55bd8fb6-b991-41af-e15f-8eee27f25c97"
      },
      "outputs": [
        {
          "output_type": "stream",
          "name": "stdout",
          "text": [
            "00_joke_bot\n",
            "What do you want? joke\n",
            "Why don’t skeletons fight each other? \n",
            " Because they don’t have the guts! 😆\n"
          ]
        }
      ],
      "source": [
        "print(\"00_joke_bot\")\n",
        "\n",
        "PROMPT: str = \"What do you want? \"\n",
        "JOKE:str = \"Why don’t skeletons fight each other? \\n Because they don’t have the guts! 😆\"\n",
        "SORRY:str = \"Sorry I only tell jokes.\"\n",
        "\n",
        "def main():\n",
        "  user_input = input(PROMPT)\n",
        "  user_input = user_input.strip().lower()\n",
        "\n",
        "  if \"joke\" in user_input:\n",
        "    print(JOKE)\n",
        "  else:\n",
        "    print(SORRY)\n",
        "\n",
        "if __name__ == \"__main__\":\n",
        "  main()"
      ]
    },
    {
      "cell_type": "code",
      "source": [
        "print(\"01_double_it\")\n",
        "\n",
        "def main():\n",
        "  user_value = int(input(\"Enter a number: \"))\n",
        "  while user_value < 100:\n",
        "    user_value = user_value * 2\n",
        "    print(user_value)\n",
        "\n",
        "if __name__ == \"__main__\":\n",
        "  main()"
      ],
      "metadata": {
        "colab": {
          "base_uri": "https://localhost:8080/"
        },
        "id": "FCsmaM59Odh8",
        "outputId": "14b266a2-a9ab-46ba-ebb1-63afe3bf90b5"
      },
      "execution_count": 2,
      "outputs": [
        {
          "output_type": "stream",
          "name": "stdout",
          "text": [
            "01_double_it\n",
            "Enter a number: 4\n",
            "8\n",
            "16\n",
            "32\n",
            "64\n",
            "128\n"
          ]
        }
      ]
    },
    {
      "cell_type": "code",
      "source": [
        "print(\"02_liftoff\")\n",
        "\n",
        "def main():\n",
        "  for i in range(10,0,-1):\n",
        "    print(i,end = \" \")\n",
        "  print(\"liftoff🚀\")\n",
        "\n",
        "if __name__ == \"__main__\":\n",
        "  main()"
      ],
      "metadata": {
        "colab": {
          "base_uri": "https://localhost:8080/"
        },
        "id": "uQgMnB5EOulo",
        "outputId": "98fba668-b5b3-4f78-8fb5-023b2ce77336"
      },
      "execution_count": 3,
      "outputs": [
        {
          "output_type": "stream",
          "name": "stdout",
          "text": [
            "02_liftoff\n",
            "10 9 8 7 6 5 4 3 2 1 liftoff🚀\n"
          ]
        }
      ]
    },
    {
      "cell_type": "code",
      "source": [
        "import random\n",
        "\n",
        "print(\"03_guess_my_number.\")\n",
        "\n",
        "def main():\n",
        "  secret_number = random.randint(1,100)\n",
        "  print(\"I am thinking of a number between 1 and 100....\")\n",
        "\n",
        "  guess = int(input(\"Enter a guess: \"))\n",
        "\n",
        "  while guess != secret_number:\n",
        "    if guess < secret_number:\n",
        "      print(\"Your guess is too low.\")\n",
        "    else:\n",
        "      print(\"Your guess is too high.\")\n",
        "    guess = int(input(\"Enter a guess: \"))\n",
        "\n",
        "  print(f\"Congratulation! The number was {secret_number}\")\n",
        "\n",
        "\n",
        "if __name__ == \"__main__\":\n",
        "  main()"
      ],
      "metadata": {
        "colab": {
          "base_uri": "https://localhost:8080/"
        },
        "id": "Rf-HKPalPHWn",
        "outputId": "bb20fbc4-8d1c-409a-f520-492518994eb6"
      },
      "execution_count": null,
      "outputs": [
        {
          "metadata": {
            "tags": null
          },
          "name": "stdout",
          "output_type": "stream",
          "text": [
            "03_guess_my_number.\n",
            "I am thinking of a number between 1 and 100....\n",
            "Your guess is too high.\n",
            "Your guess is too low.\n",
            "Your guess is too high.\n"
          ]
        }
      ]
    },
    {
      "cell_type": "code",
      "source": [
        "import random\n",
        "print(\"04_random_numbers\")\n",
        "\n",
        "def main():\n",
        "  for _ in range(10):\n",
        "    print(random.randint(1,100),end = \" \")\n",
        "\n",
        "if __name__ == \"__main__\":\n",
        "  main()"
      ],
      "metadata": {
        "id": "aUxM-7GnPQ6U"
      },
      "execution_count": null,
      "outputs": []
    }
  ]
}