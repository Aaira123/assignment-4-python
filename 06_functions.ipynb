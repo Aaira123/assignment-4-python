{
  "nbformat": 4,
  "nbformat_minor": 0,
  "metadata": {
    "colab": {
      "provenance": [],
      "authorship_tag": "ABX9TyNfKLc9g/YPAdEPNRUELD2o",
      "include_colab_link": true
    },
    "kernelspec": {
      "name": "python3",
      "display_name": "Python 3"
    },
    "language_info": {
      "name": "python"
    }
  },
  "cells": [
    {
      "cell_type": "markdown",
      "metadata": {
        "id": "view-in-github",
        "colab_type": "text"
      },
      "source": [
        "<a href=\"https://colab.research.google.com/github/Aaira123/assignment-4-python/blob/main/06_functions.ipynb\" target=\"_parent\"><img src=\"https://colab.research.google.com/assets/colab-badge.svg\" alt=\"Open In Colab\"/></a>"
      ]
    },
    {
      "cell_type": "code",
      "execution_count": 1,
      "metadata": {
        "colab": {
          "base_uri": "https://localhost:8080/"
        },
        "id": "aWk5ovXZfyaV",
        "outputId": "d96d1d09-49da-425e-894c-2e1f03819685"
      },
      "outputs": [
        {
          "output_type": "stream",
          "name": "stdout",
          "text": [
            "00_averages\n",
            "Enter numbers separated by commas:\n",
            "→ 2,3.5\n",
            "✅ Average of the given numbers: 2.75\n"
          ]
        }
      ],
      "source": [
        "print(\"00_averages\")\n",
        "def calculate_average(numbers):\n",
        "    if not numbers:\n",
        "        return 0\n",
        "    return sum(numbers) / len(numbers)\n",
        "\n",
        "def main():\n",
        "    print(\"Enter numbers separated by commas:\")\n",
        "    user_input = input(\"→ \")\n",
        "\n",
        "    # Convert string input to list of numbers\n",
        "    try:\n",
        "        number_list = [float(num.strip()) for num in user_input.split(\",\")]\n",
        "    except ValueError:\n",
        "        print(\"❌ Invalid input! Please enter valid numbers separated by commas.\")\n",
        "        return\n",
        "\n",
        "    avg = calculate_average(number_list)\n",
        "    print(f\"✅ Average of the given numbers: {avg:.2f}\")\n",
        "\n",
        "if __name__ == \"__main__\":\n",
        "    main()"
      ]
    },
    {
      "cell_type": "code",
      "source": [
        "import random\n",
        "import time\n",
        "\n",
        "print(\"01_chaotic_countin\")\n",
        "def chaotic_counting(start, end, delay=0.5):\n",
        "    numbers = list(range(start, end + 1))\n",
        "    random.shuffle(numbers)  # Random order\n",
        "\n",
        "    print(\"🤪 Chaotic Counting Begins!\")\n",
        "    for number in numbers:\n",
        "        print(number)\n",
        "        time.sleep(delay)  # Small delay for effect\n",
        "    print(\"🎉 Done with chaotic counting!\")\n",
        "\n",
        "def main():\n",
        "    print(\"Enter start and end numbers for chaotic counting.\")\n",
        "    try:\n",
        "        start = int(input(\"Start → \"))\n",
        "        end = int(input(\"End → \"))\n",
        "\n",
        "        if start > end:\n",
        "            print(\"❌ Start should be less than or equal to end!\")\n",
        "            return\n",
        "\n",
        "        chaotic_counting(start, end)\n",
        "    except ValueError:\n",
        "        print(\"❌ Invalid input! Please enter integers only.\")\n",
        "\n",
        "if __name__ == \"__main__\":\n",
        "    main()"
      ],
      "metadata": {
        "colab": {
          "base_uri": "https://localhost:8080/"
        },
        "id": "1KEAOWimc9Vm",
        "outputId": "3c4175d9-5a0b-4fec-fe28-0adf449eea29"
      },
      "execution_count": 2,
      "outputs": [
        {
          "output_type": "stream",
          "name": "stdout",
          "text": [
            "01_chaotic_countin\n",
            "Enter start and end numbers for chaotic counting.\n",
            "Start → 3 4\n",
            "❌ Invalid input! Please enter integers only.\n"
          ]
        }
      ]
    },
    {
      "cell_type": "code",
      "source": [
        "print(\"02_count_even\")\n",
        "def count_even_numbers(numbers):\n",
        "    even_numbers = [num for num in numbers if num % 2 == 0]\n",
        "    return len(even_numbers), even_numbers\n",
        "\n",
        "def main():\n",
        "    print(\"Enter numbers separated by commas:\")\n",
        "    user_input = input(\"→ \")\n",
        "\n",
        "    try:\n",
        "        number_list = [int(num.strip()) for num in user_input.split(\",\")]\n",
        "    except ValueError:\n",
        "        print(\"❌ Invalid input! Please enter integers only.\")\n",
        "        return\n",
        "\n",
        "    count, evens = count_even_numbers(number_list)\n",
        "    print(f\"✅ Total even numbers: {count}\")\n",
        "    print(f\"Even numbers: {evens}\")\n",
        "\n",
        "if __name__ == \"__main__\":\n",
        "    main()"
      ],
      "metadata": {
        "colab": {
          "base_uri": "https://localhost:8080/"
        },
        "id": "nJekbvNedXEm",
        "outputId": "c65573c6-58d0-4fe0-e4c4-39ab5845e9ed"
      },
      "execution_count": 3,
      "outputs": [
        {
          "output_type": "stream",
          "name": "stdout",
          "text": [
            "02_count_even\n",
            "Enter numbers separated by commas:\n",
            "→ 22,34,33,21\n",
            "✅ Total even numbers: 2\n",
            "Even numbers: [22, 34]\n"
          ]
        }
      ]
    },
    {
      "cell_type": "code",
      "source": [
        "print(\"04_double\")\n",
        "\n",
        "def double_numbers(numbers):\n",
        "    return [num * 2 for num in numbers]\n",
        "\n",
        "def main():\n",
        "    print(\"Enter numbers separated by commas to double them:\")\n",
        "    user_input = input(\"→ \")\n",
        "\n",
        "    try:\n",
        "        number_list = [int(num.strip()) for num in user_input.split(\",\")]\n",
        "    except ValueError:\n",
        "        print(\"❌ Invalid input! Please enter integers only.\")\n",
        "        return\n",
        "\n",
        "    doubled = double_numbers(number_list)\n",
        "    print(f\"✅ Doubled numbers: {doubled}\")\n",
        "\n",
        "if __name__ == \"__main__\":\n",
        "    main()"
      ],
      "metadata": {
        "colab": {
          "base_uri": "https://localhost:8080/"
        },
        "id": "VZj-2TUwdnex",
        "outputId": "4e59c35f-6b13-4ebe-f8cc-4e2f5eca09ad"
      },
      "execution_count": 5,
      "outputs": [
        {
          "output_type": "stream",
          "name": "stdout",
          "text": [
            "04_double\n",
            "Enter numbers separated by commas to double them:\n",
            "→ 22,67,89\n",
            "✅ Doubled numbers: [44, 134, 178]\n"
          ]
        }
      ]
    },
    {
      "cell_type": "code",
      "source": [
        "print(\"05_get_name\")\n",
        "\n",
        "def get_name():\n",
        "    name = input(\"👋 What's your name? → \").strip()\n",
        "\n",
        "    if not name:\n",
        "        print(\"⚠️ You didn't enter a name!\")\n",
        "    else:\n",
        "        print(f\"🎉 Hello, {name}! Nice to meet you!\")\n",
        "\n",
        "def main():\n",
        "    get_name()\n",
        "\n",
        "if __name__ == \"__main__\":\n",
        "    main()"
      ],
      "metadata": {
        "colab": {
          "base_uri": "https://localhost:8080/"
        },
        "id": "egCaDi5yeKH5",
        "outputId": "34726692-bc17-4f2f-c8a5-593c4241d636"
      },
      "execution_count": 6,
      "outputs": [
        {
          "output_type": "stream",
          "name": "stdout",
          "text": [
            "05_get_name\n",
            "👋 What's your name? → sana\n",
            "🎉 Hello, sana! Nice to meet you!\n"
          ]
        }
      ]
    },
    {
      "cell_type": "code",
      "source": [
        "print(\"06_is_odd\")\n",
        "\n",
        "def is_odd(number):\n",
        "    return number % 2 != 0\n",
        "\n",
        "def main():\n",
        "    try:\n",
        "        num = int(input(\"🔢 Enter a number to check if it's odd: → \"))\n",
        "    except ValueError:\n",
        "        print(\"❌ Invalid input! Please enter a valid integer.\")\n",
        "        return\n",
        "\n",
        "    if is_odd(num):\n",
        "        print(f\"✅ {num} is an odd number.\")\n",
        "    else:\n",
        "        print(f\"❌ {num} is not an odd number (it's even).\")\n",
        "\n",
        "if __name__ == \"__main__\":\n",
        "    main()"
      ],
      "metadata": {
        "colab": {
          "base_uri": "https://localhost:8080/"
        },
        "id": "MIuwMWGIeOO4",
        "outputId": "ff150a29-e88f-4748-aa12-28a74e862714"
      },
      "execution_count": 7,
      "outputs": [
        {
          "output_type": "stream",
          "name": "stdout",
          "text": [
            "06_is_odd\n",
            "🔢 Enter a number to check if it's odd: → 45\n",
            "✅ 45 is an odd number.\n"
          ]
        }
      ]
    },
    {
      "cell_type": "code",
      "source": [
        "print(\"07_print_divisor\")\n",
        "\n",
        "def print_divisors(n):\n",
        "    print(f\"🔍 Divisors of {n} are:\")\n",
        "    for i in range(1, n + 1):\n",
        "        if n % i == 0:\n",
        "            print(f\"➤ {i}\")\n",
        "\n",
        "def main():\n",
        "    try:\n",
        "        num = int(input(\"🔢 Enter a number to find its divisors: → \"))\n",
        "        if num <= 0:\n",
        "            print(\"⚠️ Please enter a positive integer greater than 0.\")\n",
        "            return\n",
        "    except ValueError:\n",
        "        print(\"❌ Invalid input! Please enter a valid number.\")\n",
        "        return\n",
        "\n",
        "    print_divisors(num)\n",
        "\n",
        "if __name__ == \"__main__\":\n",
        "    main()\n"
      ],
      "metadata": {
        "colab": {
          "base_uri": "https://localhost:8080/"
        },
        "id": "RhdXDhPGej9W",
        "outputId": "b7be0f06-4802-45df-94c8-e72b28f878c0"
      },
      "execution_count": 8,
      "outputs": [
        {
          "output_type": "stream",
          "name": "stdout",
          "text": [
            "07_print_divisor\n",
            "🔢 Enter a number to find its divisors: → 22\n",
            "🔍 Divisors of 22 are:\n",
            "➤ 1\n",
            "➤ 2\n",
            "➤ 11\n",
            "➤ 22\n"
          ]
        }
      ]
    },
    {
      "cell_type": "code",
      "source": [
        "print(\"08_print_multiple\")\n",
        "\n",
        "def print_multiples(n, count):\n",
        "    print(f\"🧮 First {count} multiples of {n} are:\")\n",
        "    for i in range(1, count + 1):\n",
        "        print(f\"➤ {n} × {i} = {n * i}\")\n",
        "\n",
        "def main():\n",
        "    try:\n",
        "        num = int(input(\"🔢 Enter a number to find its multiples: → \"))\n",
        "        count = int(input(\"🔁 How many multiples do you want to see? → \"))\n",
        "        if num <= 0 or count <= 0:\n",
        "            print(\"⚠️ Please enter positive numbers only.\")\n",
        "            return\n",
        "    except ValueError:\n",
        "        print(\"❌ Invalid input! Please enter integers only.\")\n",
        "        return\n",
        "\n",
        "    print_multiples(num, count)\n",
        "\n",
        "if __name__ == \"__main__\":\n",
        "    main()\n",
        ""
      ],
      "metadata": {
        "colab": {
          "base_uri": "https://localhost:8080/"
        },
        "id": "bdlTpZD2eu18",
        "outputId": "3f7929cf-67e6-4644-bbbb-0a4698575343"
      },
      "execution_count": 9,
      "outputs": [
        {
          "output_type": "stream",
          "name": "stdout",
          "text": [
            "08_print_multiple\n",
            "🔢 Enter a number to find its multiples: → 2\n",
            "🔁 How many multiples do you want to see? → 4\n",
            "🧮 First 4 multiples of 2 are:\n",
            "➤ 2 × 1 = 2\n",
            "➤ 2 × 2 = 4\n",
            "➤ 2 × 3 = 6\n",
            "➤ 2 × 4 = 8\n"
          ]
        }
      ]
    },
    {
      "cell_type": "code",
      "source": [
        "import random\n",
        "\n",
        "print(\"09_sentence_generator\")\n",
        "# Word lists\n",
        "nouns = [\"cat\", \"boy\", \"girl\", \"dog\", \"robot\"]\n",
        "verbs = [\"eats\", \"plays with\", \"runs to\", \"looks at\", \"builds\"]\n",
        "places = [\"the park\", \"school\", \"home\", \"the moon\", \"a castle\"]\n",
        "\n",
        "def generate_sentence():\n",
        "    noun = random.choice(nouns)\n",
        "    verb = random.choice(verbs)\n",
        "    place = random.choice(places)\n",
        "    return f\"The {noun} {verb} {place}.\"\n",
        "\n",
        "def main():\n",
        "    try:\n",
        "        count = int(input(\"📄 How many sentences do you want to generate? → \"))\n",
        "        if count <= 0:\n",
        "            print(\"⚠️ Please enter a positive number.\")\n",
        "            return\n",
        "    except ValueError:\n",
        "        print(\"❌ Invalid input! Please enter a valid number.\")\n",
        "        return\n",
        "\n",
        "    print(\"\\n📝 Generated Sentences:\")\n",
        "    for _ in range(count):\n",
        "        print(\"➤\", generate_sentence())\n",
        "\n",
        "if __name__ == \"__main__\":\n",
        "    main()"
      ],
      "metadata": {
        "colab": {
          "base_uri": "https://localhost:8080/"
        },
        "id": "Lm7HeUloe97b",
        "outputId": "00e64709-4131-4a44-e9ca-c29478cca965"
      },
      "execution_count": 10,
      "outputs": [
        {
          "output_type": "stream",
          "name": "stdout",
          "text": [
            "09_sentence_generator\n",
            "📄 How many sentences do you want to generate? → 2\n",
            "\n",
            "📝 Generated Sentences:\n",
            "➤ The cat builds home.\n",
            "➤ The dog builds the park.\n"
          ]
        }
      ]
    },
    {
      "cell_type": "code",
      "source": [
        "print(\"10_print_ones_digit\")\n",
        "\n",
        "def get_ones_digit(number):\n",
        "    return abs(number) % 10  # Negative number handle karne ke liye abs()\n",
        "\n",
        "def main():\n",
        "    try:\n",
        "        num = int(input(\"🔢 Enter a number: → \"))\n",
        "    except ValueError:\n",
        "        print(\"❌ Please enter a valid integer.\")\n",
        "        return\n",
        "\n",
        "    ones_digit = get_ones_digit(num)\n",
        "    print(f\"🧮 The ones digit of {num} is: {ones_digit}\")\n",
        "\n",
        "if __name__ == \"__main__\":\n",
        "    main()\n"
      ],
      "metadata": {
        "colab": {
          "base_uri": "https://localhost:8080/"
        },
        "id": "E3jCin_jeuzC",
        "outputId": "f9be7715-70f1-4a28-9fa1-16e303dc69fb"
      },
      "execution_count": 12,
      "outputs": [
        {
          "output_type": "stream",
          "name": "stdout",
          "text": [
            "10_print_ones_digit\n",
            "🔢 Enter a number: → 56\n",
            "🧮 The ones digit of 56 is: 6\n"
          ]
        }
      ]
    }
  ]
}