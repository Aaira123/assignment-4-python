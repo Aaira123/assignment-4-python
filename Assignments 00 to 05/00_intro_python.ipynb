{
  "nbformat": 4,
  "nbformat_minor": 0,
  "metadata": {
    "colab": {
      "provenance": [],
      "authorship_tag": "ABX9TyPCid7zLK6FymdrGUNE++Ce",
      "include_colab_link": true
    },
    "kernelspec": {
      "name": "python3",
      "display_name": "Python 3"
    },
    "language_info": {
      "name": "python"
    }
  },
  "cells": [
    {
      "cell_type": "markdown",
      "metadata": {
        "id": "view-in-github",
        "colab_type": "text"
      },
      "source": [
        "<a href=\"https://colab.research.google.com/github/Aaira123/assignment-4-python/blob/main/00_intro_python.ipynb\" target=\"_parent\"><img src=\"https://colab.research.google.com/assets/colab-badge.svg\" alt=\"Open In Colab\"/></a>"
      ]
    },
    {
      "cell_type": "code",
      "execution_count": 2,
      "metadata": {
        "colab": {
          "base_uri": "https://localhost:8080/"
        },
        "id": "_iviSIB314aO",
        "outputId": "66d4350a-7f73-44b2-9934-392377afadb5"
      },
      "outputs": [
        {
          "output_type": "stream",
          "name": "stdout",
          "text": [
            "This appication for add two numbers\n",
            "Enter your first number.5\n",
            "Enter your second number.6\n",
            "The total sum of 5 and 6 is 11\n"
          ]
        }
      ],
      "source": [
        "def add():\n",
        "  print(\"This appication for add two numbers\")\n",
        "  first_number = int(input(\"Enter your first number.\"))\n",
        "  second_number = int(input(\"Enter your second number.\"))\n",
        "  total = int(first_number + second_number)\n",
        "  print(f\"The total sum of {first_number} and {second_number} is {total}\")\n",
        "\n",
        "if __name__ == \"__main__\":\n",
        " add()"
      ]
    },
    {
      "cell_type": "code",
      "source": [
        "def bot():\n",
        "  animal = str(input(\"What's your favorite animal?\"))\n",
        "  print(f\"My favorite animal is also {animal}!\")\n",
        "\n",
        "if __name__ == \"__main__\":\n",
        "  bot()\n"
      ],
      "metadata": {
        "colab": {
          "base_uri": "https://localhost:8080/"
        },
        "id": "S_zgXeL965Xf",
        "outputId": "84e71c6c-7920-4d6d-8b2d-db0982c05f0c"
      },
      "execution_count": 3,
      "outputs": [
        {
          "output_type": "stream",
          "name": "stdout",
          "text": [
            "What's your favorite animal?cow\n",
            "My favorite animal is also cow!\n"
          ]
        }
      ]
    },
    {
      "cell_type": "code",
      "source": [
        "def temp():\n",
        "  print(\"This code for converting fahrenheit to celcius\")\n",
        "  fahrenheit_degree = float(input(\"Enter your fahrenheit degree. \"))\n",
        "  celsius_degree = (fahrenheit_degree - 32) * 5.0/9.0\n",
        "  print(f\"Temperature {fahrenheit_degree} F = {celsius_degree}C\")\n",
        "\n",
        "if __name__ == \"__main__\":\n",
        "  temp()"
      ],
      "metadata": {
        "colab": {
          "base_uri": "https://localhost:8080/"
        },
        "id": "xHHpp5UR8ELn",
        "outputId": "d03c40c1-f38e-4e03-ba63-86e85eed4c1c"
      },
      "execution_count": 4,
      "outputs": [
        {
          "output_type": "stream",
          "name": "stdout",
          "text": [
            "This code for converting fahrenheit to celcius\n",
            "Enter your fahrenheit degree67\n",
            "Temperature 67.0 = 19.444444444444443\n"
          ]
        }
      ]
    },
    {
      "cell_type": "code",
      "source": [
        "def add_ages():\n",
        "  anthon:int=21\n",
        "  beth:int=anthon + 6\n",
        "  chen:int=beth +20\n",
        "  drew:int=chen + anthon\n",
        "  ethan:int=chen\n",
        "\n",
        "  print(\"Anthon is \" + str(anthon))\n",
        "  print(\"Beth is \" + str(beth))\n",
        "  print(\"Chen is \" + str(chen))\n",
        "  print(\"Drew is \" + str(drew))\n",
        "  print(\"Ethan is \" + str(ethan))\n",
        "\n",
        "if __name__ == \"__main__\":\n",
        "  add_ages()"
      ],
      "metadata": {
        "colab": {
          "base_uri": "https://localhost:8080/"
        },
        "id": "a100Ywgb2HJ0",
        "outputId": "1fe55380-8954-48f2-bbd3-5ebaf7ba053d"
      },
      "execution_count": 1,
      "outputs": [
        {
          "output_type": "stream",
          "name": "stdout",
          "text": [
            "Anthon is 21\n",
            "Beth is 27\n",
            "Chen is 47\n",
            "Drew is 68\n",
            "Ethan is 47\n"
          ]
        }
      ]
    },
    {
      "cell_type": "code",
      "source": [
        "def triangle():\n",
        "    # Get the 3 side lengths of the triangle\n",
        "    side1: float = float(input(\"What is the length of side 1? \"))\n",
        "    side2: float = float(input(\"What is the length of side 2? \"))\n",
        "    side3: float = float(input(\"What is the length of side 3? \"))\n",
        "\n",
        "    # Print out the perimeter (sum of the sides) of the triangle, make sure to cast it to a str when concatenating!\n",
        "    print(\"The perimeter of the triangle is \" + str(side1 + side2 + side3))\n",
        "\n",
        "\n",
        "# There is no need to edit code beyond this point\n",
        "\n",
        "if __name__ == '__main__':\n",
        "    triangle()"
      ],
      "metadata": {
        "id": "_etnHPXL5Ns_"
      },
      "execution_count": null,
      "outputs": []
    },
    {
      "cell_type": "code",
      "source": [
        "def square():\n",
        "  print(\"This code is about square of given number\")\n",
        "  num1:int = int(input(\"Enter any number and i will give u a square value.\"))\n",
        "  print(f'The square of {num1} is {num1 ** 2}')\n",
        "\n",
        "if __name__ == \"__main__\":\n",
        "    square()"
      ],
      "metadata": {
        "id": "LDGpxtiq6oCP"
      },
      "execution_count": null,
      "outputs": []
    },
    {
      "cell_type": "code",
      "source": [],
      "metadata": {
        "id": "s1Is7PfC8jRJ"
      },
      "execution_count": null,
      "outputs": []
    }
  ]
}
