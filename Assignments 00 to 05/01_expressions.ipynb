{
  "nbformat": 4,
  "nbformat_minor": 0,
  "metadata": {
    "colab": {
      "provenance": [],
      "authorship_tag": "ABX9TyO9P6qY82SGJNk+mTg68ZxS",
      "include_colab_link": true
    },
    "kernelspec": {
      "name": "python3",
      "display_name": "Python 3"
    },
    "language_info": {
      "name": "python"
    }
  },
  "cells": [
    {
      "cell_type": "markdown",
      "metadata": {
        "id": "view-in-github",
        "colab_type": "text"
      },
      "source": [
        "<a href=\"https://colab.research.google.com/github/Aaira123/assignment-4-python/blob/main/01_expressions.ipynb\" target=\"_parent\"><img src=\"https://colab.research.google.com/assets/colab-badge.svg\" alt=\"Open In Colab\"/></a>"
      ]
    },
    {
      "cell_type": "code",
      "execution_count": null,
      "metadata": {
        "colab": {
          "base_uri": "https://localhost:8080/"
        },
        "id": "hZWqTbBkmZ5y",
        "outputId": "cbdc79fb-30d5-4aa0-e040-3b771e4f9b47"
      },
      "outputs": [
        {
          "output_type": "stream",
          "name": "stdout",
          "text": [
            "01_dicesimulator.md\n",
            "die1 in main() start as :10\n",
            "Total of two dies: 8\n",
            "Total of two dies: 6\n",
            "Total of two dies: 9\n",
            "die1 in main() is: 10\n"
          ]
        }
      ],
      "source": [
        "#Simulate rolling two dice, three times. Prints the results of each die roll. This program is used to show how variable scope works.\n",
        "\n",
        "import random\n",
        "print (\"01_dicesimulator.md\")\n",
        "\n",
        "def roll_dice():\n",
        "  die1:int = random.randint(1,6)\n",
        "  die2:int = random.randint(1,6)\n",
        "  total:int = die1+die2\n",
        "  print(f'Total of two dies: {total}')\n",
        "\n",
        "def main():\n",
        "  die1:int =10\n",
        "  print(\"die1 in main() start as :\" + str(die1))\n",
        "  roll_dice()\n",
        "  roll_dice()\n",
        "  roll_dice()\n",
        "  print(\"die1 in main() is: \" + str(die1))\n",
        "\n",
        "if __name__ == \"__main__\":\n",
        "  main()\n",
        "\n"
      ]
    },
    {
      "cell_type": "code",
      "source": [
        "print(\"02_e=mc2.md\")\n",
        "def energy():\n",
        "  c:float = 299792458\n",
        "  m:float = float(input(\"Enter Kilos of mass: \"))\n",
        "  print(\"e=m*c^2\")\n",
        "  print(\"Mass = \" + str(m) + \" kg\")\n",
        "  print(\"C = \"+ str(c) + \" m/s\")\n",
        "  print(\"e = \"+ str(m * c ** 2) + \" jules\")\n",
        "\n",
        "if __name__ == \"__main__\":\n",
        "  energy()\n",
        "\n"
      ],
      "metadata": {
        "colab": {
          "base_uri": "https://localhost:8080/"
        },
        "id": "CR9gEPaZzkmN",
        "outputId": "c6977540-a6ac-4dc8-fc22-50a9df1eca4e"
      },
      "execution_count": null,
      "outputs": [
        {
          "output_type": "stream",
          "name": "stdout",
          "text": [
            "02_e=mc2.md\n",
            "Enter Kilos of mass: 54\n",
            "e=m*c^2\n",
            "Mass = 54.0 kg\n",
            "C = 299792458 m/s\n",
            "e = 4.853277965178815e+18 jules\n"
          ]
        }
      ]
    },
    {
      "cell_type": "code",
      "source": [
        "print(\"03_feet_to_inches.md\")\n",
        "\n",
        "inch:int = 12\n",
        "def foot():\n",
        "  feet:int = int(input(\"Enter feet and i will convert into inches. \"))\n",
        "  print(f'There are {inch * feet} inches in {feet} feet.')\n",
        "if __name__ == \"__main__\":\n",
        "  foot()"
      ],
      "metadata": {
        "colab": {
          "base_uri": "https://localhost:8080/"
        },
        "id": "WXMjyAPXF6iz",
        "outputId": "85e5b180-017e-4752-e87c-034bdc445fec"
      },
      "execution_count": null,
      "outputs": [
        {
          "output_type": "stream",
          "name": "stdout",
          "text": [
            "03_feet_to_inches.md\n",
            "Enter feet and i will convert into inches. 45\n",
            "There are 540 inches in 45 feet.\n"
          ]
        }
      ]
    },
    {
      "cell_type": "code",
      "source": [
        "import math\n",
        "print(\"04_pythagorean_theorem.md\")\n",
        "\n",
        "def triangle():\n",
        "  ab:float = float(input(\"Enter the length of the side ab. \"))\n",
        "  ac:float = float(input(\"Enter the length of the side ac. \"))\n",
        "  bc:float = math.sqrt(ab**2 + ac**2)\n",
        "  print(f'The length of bc (the hypothenuse is : {bc})')\n",
        "\n",
        "if __name__ == \"__main__\":\n",
        "  triangle()"
      ],
      "metadata": {
        "colab": {
          "base_uri": "https://localhost:8080/"
        },
        "id": "8fiJgTwgHl2Y",
        "outputId": "c551a9ff-28db-401a-e58b-0240cd4405f1"
      },
      "execution_count": null,
      "outputs": [
        {
          "output_type": "stream",
          "name": "stdout",
          "text": [
            "04_pythagorean_theorem.md\n",
            "Enter the length of the side ab. 4.9\n",
            "Enter the length of the side ac. 5.0\n",
            "The length of bc (the hypothenuse is : 7.000714249274855)\n"
          ]
        }
      ]
    },
    {
      "cell_type": "code",
      "source": [
        "print(\"05_remainder_division.md\")\n",
        "def remander():\n",
        "  num1:int=int(input(\"Enter an integer to be divided: \"))\n",
        "  num2:int=int(input(\"Enter an integer to divide by: \"))\n",
        "  quotient:int = num1 // num2\n",
        "  remainder:int = num1 % num2\n",
        "  print(f'the result of this division is {quotient} with a {remainder}')\n",
        "\n",
        "if __name__ == \"__main__\":\n",
        "  remander()\n",
        "\n"
      ],
      "metadata": {
        "colab": {
          "base_uri": "https://localhost:8080/"
        },
        "id": "Sa6EONf_k_T4",
        "outputId": "edf3848b-8ef0-4437-eea1-345436f87d4e"
      },
      "execution_count": 2,
      "outputs": [
        {
          "output_type": "stream",
          "name": "stdout",
          "text": [
            "05_remainder_division.md\n",
            "Enter an integer to be divided: 4\n",
            "Enter an integer to divide by: 2\n",
            "the result of this division is 2 with a 0\n"
          ]
        }
      ]
    },
    {
      "cell_type": "code",
      "source": [
        "import random\n",
        "print('06_rolldice')\n",
        "\n",
        "def dice():\n",
        "  die1:int =random.randint(1,6)\n",
        "  die2:int =random.randint(1,6)\n",
        "  total:int=int(die1+die2)\n",
        "  print(\"First die: \" + str(die1))\n",
        "  print(\"Second die: \" + str(die2))\n",
        "  print(f'Total of the two dies : {total}')\n",
        "\n",
        "if __name__ == \"__main__\":\n",
        "  dice()\n"
      ],
      "metadata": {
        "colab": {
          "base_uri": "https://localhost:8080/"
        },
        "id": "Ijb_GN47t4Cr",
        "outputId": "3067ea31-eff0-4306-888f-0f28feae48a8"
      },
      "execution_count": 4,
      "outputs": [
        {
          "output_type": "stream",
          "name": "stdout",
          "text": [
            "06_rolldice\n",
            "First die: 1\n",
            "Second die: 4\n",
            "Total of the two dies : 5\n"
          ]
        }
      ]
    },
    {
      "cell_type": "code",
      "source": [
        "print('06_seconds_in_year')\n",
        "days_in_year:int=365\n",
        "hour_per_day:int=24\n",
        "mint_per_hour:int=60\n",
        "sec_per_mint:int=60\n",
        "\n",
        "def second():\n",
        "  print(f'There are {days_in_year * hour_per_day * mint_per_hour * sec_per_mint} seconds in a year!')\n",
        "if __name__ == \"__main__\":\n",
        "  second()"
      ],
      "metadata": {
        "colab": {
          "base_uri": "https://localhost:8080/"
        },
        "id": "gr_mio-9v7Wc",
        "outputId": "7015efeb-3299-4836-d203-9124e2472056"
      },
      "execution_count": 6,
      "outputs": [
        {
          "output_type": "stream",
          "name": "stdout",
          "text": [
            "06_seconds_in_year\n",
            "There are 31536000 seconds in a year!\n"
          ]
        }
      ]
    },
    {
      "cell_type": "code",
      "source": [
        "print('07_tiny_mad_lib')\n",
        "\n",
        "def mad_lib():\n",
        "  noun:str=str(input('Enter a noun: '))\n",
        "  adjective:str=str(input('Enter a adjective: '))\n",
        "  verb:str=str(input('Enter a verb: '))\n",
        "  adverb:str=str(input('Enter a adverb: '))\n",
        "  print(f'Do you {verb} your {adjective} {noun} {adverb}?')\n",
        "\n",
        "if __name__ == \"__main__\":\n",
        "  mad_lib()"
      ],
      "metadata": {
        "colab": {
          "base_uri": "https://localhost:8080/"
        },
        "id": "Weruk-JUxTCw",
        "outputId": "89d4b8d6-5426-4345-98dc-5abea47ae2c4"
      },
      "execution_count": 8,
      "outputs": [
        {
          "output_type": "stream",
          "name": "stdout",
          "text": [
            "07_tiny_mad_lib\n",
            "Enter a noun: cat\n",
            "Enter a adjective: cute\n",
            "Enter a verb: sleep\n",
            "Enter a adverb: peacefully\n",
            "Do you sleep your cute cat peacefully?\n"
          ]
        }
      ]
    }
  ]
}
